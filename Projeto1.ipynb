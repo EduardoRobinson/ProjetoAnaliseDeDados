{
 "cells": [
  {
   "cell_type": "code",
   "execution_count": 45,
   "id": "4a843638-c6e7-4e62-b449-d955b4f1ebb1",
   "metadata": {},
   "outputs": [],
   "source": [
    "import pandas as pd\n",
    "import numpy as np"
   ]
  },
  {
   "cell_type": "code",
   "execution_count": 46,
   "id": "5f901005-07e4-4910-9564-43b2ed937e5b",
   "metadata": {},
   "outputs": [],
   "source": [
    "base = pd.read_csv(\"covid_worldwide.csv\") "
   ]
  },
  {
   "cell_type": "code",
   "execution_count": 47,
   "id": "8fb18ad1-d4c7-44f8-993c-3a9378c28922",
   "metadata": {},
   "outputs": [
    {
     "data": {
      "text/html": [
       "<div>\n",
       "<style scoped>\n",
       "    .dataframe tbody tr th:only-of-type {\n",
       "        vertical-align: middle;\n",
       "    }\n",
       "\n",
       "    .dataframe tbody tr th {\n",
       "        vertical-align: top;\n",
       "    }\n",
       "\n",
       "    .dataframe thead th {\n",
       "        text-align: right;\n",
       "    }\n",
       "</style>\n",
       "<table border=\"1\" class=\"dataframe\">\n",
       "  <thead>\n",
       "    <tr style=\"text-align: right;\">\n",
       "      <th></th>\n",
       "      <th>Serial Number</th>\n",
       "      <th>Country</th>\n",
       "      <th>Total Cases</th>\n",
       "      <th>Total Deaths</th>\n",
       "      <th>Total Recovered</th>\n",
       "      <th>Active Cases</th>\n",
       "      <th>Total Test</th>\n",
       "      <th>Population</th>\n",
       "    </tr>\n",
       "  </thead>\n",
       "  <tbody>\n",
       "    <tr>\n",
       "      <th>0</th>\n",
       "      <td>1</td>\n",
       "      <td>USA</td>\n",
       "      <td>104,196,861</td>\n",
       "      <td>1,132,935</td>\n",
       "      <td>101,322,779</td>\n",
       "      <td>1,741,147</td>\n",
       "      <td>1,159,832,679</td>\n",
       "      <td>334,805,269</td>\n",
       "    </tr>\n",
       "    <tr>\n",
       "      <th>1</th>\n",
       "      <td>2</td>\n",
       "      <td>India</td>\n",
       "      <td>44,682,784</td>\n",
       "      <td>530,740</td>\n",
       "      <td>44,150,289</td>\n",
       "      <td>1,755</td>\n",
       "      <td>915,265,788</td>\n",
       "      <td>1,406,631,776</td>\n",
       "    </tr>\n",
       "    <tr>\n",
       "      <th>2</th>\n",
       "      <td>3</td>\n",
       "      <td>France</td>\n",
       "      <td>39,524,311</td>\n",
       "      <td>164,233</td>\n",
       "      <td>39,264,546</td>\n",
       "      <td>95,532</td>\n",
       "      <td>271,490,188</td>\n",
       "      <td>65,584,518</td>\n",
       "    </tr>\n",
       "    <tr>\n",
       "      <th>3</th>\n",
       "      <td>4</td>\n",
       "      <td>Germany</td>\n",
       "      <td>37,779,833</td>\n",
       "      <td>165,711</td>\n",
       "      <td>37,398,100</td>\n",
       "      <td>216,022</td>\n",
       "      <td>122,332,384</td>\n",
       "      <td>83,883,596</td>\n",
       "    </tr>\n",
       "    <tr>\n",
       "      <th>4</th>\n",
       "      <td>5</td>\n",
       "      <td>Brazil</td>\n",
       "      <td>36,824,580</td>\n",
       "      <td>697,074</td>\n",
       "      <td>35,919,372</td>\n",
       "      <td>208,134</td>\n",
       "      <td>63,776,166</td>\n",
       "      <td>215,353,593</td>\n",
       "    </tr>\n",
       "    <tr>\n",
       "      <th>5</th>\n",
       "      <td>6</td>\n",
       "      <td>Japan</td>\n",
       "      <td>32,588,442</td>\n",
       "      <td>68,399</td>\n",
       "      <td>21,567,425</td>\n",
       "      <td>10,952,618</td>\n",
       "      <td>92,144,639</td>\n",
       "      <td>125,584,838</td>\n",
       "    </tr>\n",
       "    <tr>\n",
       "      <th>6</th>\n",
       "      <td>7</td>\n",
       "      <td>S. Korea</td>\n",
       "      <td>30,197,066</td>\n",
       "      <td>33,486</td>\n",
       "      <td>29,740,877</td>\n",
       "      <td>422,703</td>\n",
       "      <td>15,804,065</td>\n",
       "      <td>51,329,899</td>\n",
       "    </tr>\n",
       "    <tr>\n",
       "      <th>7</th>\n",
       "      <td>8</td>\n",
       "      <td>Italy</td>\n",
       "      <td>25,453,789</td>\n",
       "      <td>186,833</td>\n",
       "      <td>25,014,986</td>\n",
       "      <td>251,970</td>\n",
       "      <td>265,478,247</td>\n",
       "      <td>60,262,770</td>\n",
       "    </tr>\n",
       "    <tr>\n",
       "      <th>8</th>\n",
       "      <td>9</td>\n",
       "      <td>UK</td>\n",
       "      <td>24,274,361</td>\n",
       "      <td>204,171</td>\n",
       "      <td>24,020,088</td>\n",
       "      <td>50,102</td>\n",
       "      <td>522,526,476</td>\n",
       "      <td>68,497,907</td>\n",
       "    </tr>\n",
       "    <tr>\n",
       "      <th>9</th>\n",
       "      <td>10</td>\n",
       "      <td>Russia</td>\n",
       "      <td>21,958,696</td>\n",
       "      <td>395,108</td>\n",
       "      <td>21,356,008</td>\n",
       "      <td>207,580</td>\n",
       "      <td>273,400,000</td>\n",
       "      <td>145,805,947</td>\n",
       "    </tr>\n",
       "  </tbody>\n",
       "</table>\n",
       "</div>"
      ],
      "text/plain": [
       "   Serial Number   Country  Total Cases Total Deaths Total Recovered  \\\n",
       "0              1       USA  104,196,861    1,132,935     101,322,779   \n",
       "1              2     India   44,682,784      530,740      44,150,289   \n",
       "2              3    France   39,524,311      164,233      39,264,546   \n",
       "3              4   Germany   37,779,833      165,711      37,398,100   \n",
       "4              5    Brazil   36,824,580      697,074      35,919,372   \n",
       "5              6     Japan   32,588,442       68,399      21,567,425   \n",
       "6              7  S. Korea   30,197,066       33,486      29,740,877   \n",
       "7              8     Italy   25,453,789      186,833      25,014,986   \n",
       "8              9        UK   24,274,361      204,171      24,020,088   \n",
       "9             10    Russia   21,958,696      395,108      21,356,008   \n",
       "\n",
       "  Active Cases     Total Test     Population  \n",
       "0    1,741,147  1,159,832,679    334,805,269  \n",
       "1        1,755    915,265,788  1,406,631,776  \n",
       "2       95,532    271,490,188     65,584,518  \n",
       "3      216,022    122,332,384     83,883,596  \n",
       "4      208,134     63,776,166    215,353,593  \n",
       "5   10,952,618     92,144,639    125,584,838  \n",
       "6      422,703     15,804,065     51,329,899  \n",
       "7      251,970    265,478,247     60,262,770  \n",
       "8       50,102    522,526,476     68,497,907  \n",
       "9      207,580    273,400,000    145,805,947  "
      ]
     },
     "execution_count": 47,
     "metadata": {},
     "output_type": "execute_result"
    }
   ],
   "source": [
    "base.head(10)"
   ]
  },
  {
   "cell_type": "code",
   "execution_count": 48,
   "id": "ba48e5ec-c7b4-464f-9b84-8c06487ae867",
   "metadata": {},
   "outputs": [
    {
     "data": {
      "text/html": [
       "<div>\n",
       "<style scoped>\n",
       "    .dataframe tbody tr th:only-of-type {\n",
       "        vertical-align: middle;\n",
       "    }\n",
       "\n",
       "    .dataframe tbody tr th {\n",
       "        vertical-align: top;\n",
       "    }\n",
       "\n",
       "    .dataframe thead th {\n",
       "        text-align: right;\n",
       "    }\n",
       "</style>\n",
       "<table border=\"1\" class=\"dataframe\">\n",
       "  <thead>\n",
       "    <tr style=\"text-align: right;\">\n",
       "      <th></th>\n",
       "      <th>Serial Number</th>\n",
       "      <th>Country</th>\n",
       "      <th>Total Cases</th>\n",
       "      <th>Total Deaths</th>\n",
       "      <th>Total Recovered</th>\n",
       "      <th>Active Cases</th>\n",
       "      <th>Total Test</th>\n",
       "      <th>Population</th>\n",
       "    </tr>\n",
       "  </thead>\n",
       "  <tbody>\n",
       "    <tr>\n",
       "      <th>226</th>\n",
       "      <td>227</td>\n",
       "      <td>Diamond Princess</td>\n",
       "      <td>712</td>\n",
       "      <td>13</td>\n",
       "      <td>699</td>\n",
       "      <td>0</td>\n",
       "      <td>NaN</td>\n",
       "      <td>NaN</td>\n",
       "    </tr>\n",
       "    <tr>\n",
       "      <th>227</th>\n",
       "      <td>228</td>\n",
       "      <td>Vatican City</td>\n",
       "      <td>29</td>\n",
       "      <td>NaN</td>\n",
       "      <td>29</td>\n",
       "      <td>0</td>\n",
       "      <td>NaN</td>\n",
       "      <td>799</td>\n",
       "    </tr>\n",
       "    <tr>\n",
       "      <th>228</th>\n",
       "      <td>229</td>\n",
       "      <td>Western Sahara</td>\n",
       "      <td>10</td>\n",
       "      <td>1</td>\n",
       "      <td>9</td>\n",
       "      <td>0</td>\n",
       "      <td>NaN</td>\n",
       "      <td>626,161</td>\n",
       "    </tr>\n",
       "    <tr>\n",
       "      <th>229</th>\n",
       "      <td>230</td>\n",
       "      <td>MS Zaandam</td>\n",
       "      <td>9</td>\n",
       "      <td>2</td>\n",
       "      <td>7</td>\n",
       "      <td>0</td>\n",
       "      <td>NaN</td>\n",
       "      <td>NaN</td>\n",
       "    </tr>\n",
       "    <tr>\n",
       "      <th>230</th>\n",
       "      <td>231</td>\n",
       "      <td>Tokelau</td>\n",
       "      <td>5</td>\n",
       "      <td>NaN</td>\n",
       "      <td>NaN</td>\n",
       "      <td>5</td>\n",
       "      <td>NaN</td>\n",
       "      <td>1,378</td>\n",
       "    </tr>\n",
       "  </tbody>\n",
       "</table>\n",
       "</div>"
      ],
      "text/plain": [
       "     Serial Number           Country Total Cases Total Deaths Total Recovered  \\\n",
       "226            227  Diamond Princess         712           13             699   \n",
       "227            228      Vatican City          29          NaN              29   \n",
       "228            229    Western Sahara          10            1               9   \n",
       "229            230        MS Zaandam           9            2               7   \n",
       "230            231           Tokelau           5          NaN             NaN   \n",
       "\n",
       "    Active Cases Total Test Population  \n",
       "226            0        NaN        NaN  \n",
       "227            0        NaN        799  \n",
       "228            0        NaN    626,161  \n",
       "229            0        NaN        NaN  \n",
       "230            5        NaN      1,378  "
      ]
     },
     "execution_count": 48,
     "metadata": {},
     "output_type": "execute_result"
    }
   ],
   "source": [
    "base.tail(5)"
   ]
  },
  {
   "cell_type": "code",
   "execution_count": 49,
   "id": "14d37014-acda-48e2-84ce-592c4ba386b4",
   "metadata": {},
   "outputs": [
    {
     "name": "stdout",
     "output_type": "stream",
     "text": [
      "Quantidade de linhas: 231\n",
      "Quantidade de colunas: 8\n"
     ]
    }
   ],
   "source": [
    "linhas, colunas = base.shape\n",
    "print(\"Quantidade de linhas:\", linhas)\n",
    "print(\"Quantidade de colunas:\", colunas)"
   ]
  },
  {
   "cell_type": "code",
   "execution_count": 50,
   "id": "0bc370a9-40e6-41f7-9340-7e8528d74b70",
   "metadata": {},
   "outputs": [
    {
     "name": "stdout",
     "output_type": "stream",
     "text": [
      "<class 'pandas.core.frame.DataFrame'>\n",
      "RangeIndex: 231 entries, 0 to 230\n",
      "Data columns (total 8 columns):\n",
      " #   Column           Non-Null Count  Dtype \n",
      "---  ------           --------------  ----- \n",
      " 0   Serial Number    231 non-null    int64 \n",
      " 1   Country          231 non-null    object\n",
      " 2   Total Cases      231 non-null    object\n",
      " 3   Total Deaths     225 non-null    object\n",
      " 4   Total Recovered  210 non-null    object\n",
      " 5   Active Cases     212 non-null    object\n",
      " 6   Total Test       213 non-null    object\n",
      " 7   Population       228 non-null    object\n",
      "dtypes: int64(1), object(7)\n",
      "memory usage: 14.6+ KB\n"
     ]
    }
   ],
   "source": [
    "base.info()"
   ]
  },
  {
   "cell_type": "code",
   "execution_count": 51,
   "id": "95c590a7-6435-4efe-abd6-43d054dfd581",
   "metadata": {
    "scrolled": true
   },
   "outputs": [
    {
     "name": "stdout",
     "output_type": "stream",
     "text": [
      "\n",
      "Valores nulos por coluna:\n",
      "Serial Number       0\n",
      "Country             0\n",
      "Total Cases         0\n",
      "Total Deaths        6\n",
      "Total Recovered    21\n",
      "Active Cases       19\n",
      "Total Test         18\n",
      "Population          3\n",
      "dtype: int64\n"
     ]
    }
   ],
   "source": [
    "print(\"\\nValores nulos por coluna:\")\n",
    "print(base.isnull().sum())"
   ]
  },
  {
   "cell_type": "code",
   "execution_count": 52,
   "id": "94df1b4e-812f-420d-a34f-fbba85b02923",
   "metadata": {},
   "outputs": [
    {
     "name": "stdout",
     "output_type": "stream",
     "text": [
      "Serial Number      float64\n",
      "Country             object\n",
      "Total Cases        float64\n",
      "Total Deaths       float64\n",
      "Total Recovered    float64\n",
      "Active Cases       float64\n",
      "Total Test         float64\n",
      "Population         float64\n",
      "dtype: object\n"
     ]
    }
   ],
   "source": [
    "coluna_manter=['Country']\n",
    "for coluna in base.columns:\n",
    "    if coluna not in coluna_manter:\n",
    "        base[coluna]=base[coluna].replace(',','',regex=True)\n",
    "        base[coluna]=base[coluna].astype(float)\n",
    "print(base.dtypes)"
   ]
  },
  {
   "cell_type": "code",
   "execution_count": 53,
   "id": "056e54de-af6c-4bd0-a675-d4d922499732",
   "metadata": {},
   "outputs": [],
   "source": [
    "base.fillna(0,inplace=True)"
   ]
  },
  {
   "cell_type": "code",
   "execution_count": 54,
   "id": "f6175527-634e-4c58-8a60-59ae53a330a6",
   "metadata": {},
   "outputs": [],
   "source": [
    "base.drop(columns=['Serial Number'],inplace=True)"
   ]
  },
  {
   "cell_type": "code",
   "execution_count": 55,
   "id": "72fffd9c-bb14-4236-a0e9-83c033df0847",
   "metadata": {},
   "outputs": [
    {
     "data": {
      "text/html": [
       "<div>\n",
       "<style scoped>\n",
       "    .dataframe tbody tr th:only-of-type {\n",
       "        vertical-align: middle;\n",
       "    }\n",
       "\n",
       "    .dataframe tbody tr th {\n",
       "        vertical-align: top;\n",
       "    }\n",
       "\n",
       "    .dataframe thead th {\n",
       "        text-align: right;\n",
       "    }\n",
       "</style>\n",
       "<table border=\"1\" class=\"dataframe\">\n",
       "  <thead>\n",
       "    <tr style=\"text-align: right;\">\n",
       "      <th></th>\n",
       "      <th>Country</th>\n",
       "      <th>Total Cases</th>\n",
       "      <th>Total Deaths</th>\n",
       "      <th>Total Recovered</th>\n",
       "      <th>Active Cases</th>\n",
       "      <th>Total Test</th>\n",
       "      <th>Population</th>\n",
       "    </tr>\n",
       "  </thead>\n",
       "  <tbody>\n",
       "    <tr>\n",
       "      <th>0</th>\n",
       "      <td>USA</td>\n",
       "      <td>104196861.0</td>\n",
       "      <td>1132935.0</td>\n",
       "      <td>101322779.0</td>\n",
       "      <td>1741147.0</td>\n",
       "      <td>1.159833e+09</td>\n",
       "      <td>3.348053e+08</td>\n",
       "    </tr>\n",
       "    <tr>\n",
       "      <th>1</th>\n",
       "      <td>India</td>\n",
       "      <td>44682784.0</td>\n",
       "      <td>530740.0</td>\n",
       "      <td>44150289.0</td>\n",
       "      <td>1755.0</td>\n",
       "      <td>9.152658e+08</td>\n",
       "      <td>1.406632e+09</td>\n",
       "    </tr>\n",
       "    <tr>\n",
       "      <th>2</th>\n",
       "      <td>France</td>\n",
       "      <td>39524311.0</td>\n",
       "      <td>164233.0</td>\n",
       "      <td>39264546.0</td>\n",
       "      <td>95532.0</td>\n",
       "      <td>2.714902e+08</td>\n",
       "      <td>6.558452e+07</td>\n",
       "    </tr>\n",
       "    <tr>\n",
       "      <th>3</th>\n",
       "      <td>Germany</td>\n",
       "      <td>37779833.0</td>\n",
       "      <td>165711.0</td>\n",
       "      <td>37398100.0</td>\n",
       "      <td>216022.0</td>\n",
       "      <td>1.223324e+08</td>\n",
       "      <td>8.388360e+07</td>\n",
       "    </tr>\n",
       "    <tr>\n",
       "      <th>4</th>\n",
       "      <td>Brazil</td>\n",
       "      <td>36824580.0</td>\n",
       "      <td>697074.0</td>\n",
       "      <td>35919372.0</td>\n",
       "      <td>208134.0</td>\n",
       "      <td>6.377617e+07</td>\n",
       "      <td>2.153536e+08</td>\n",
       "    </tr>\n",
       "    <tr>\n",
       "      <th>5</th>\n",
       "      <td>Japan</td>\n",
       "      <td>32588442.0</td>\n",
       "      <td>68399.0</td>\n",
       "      <td>21567425.0</td>\n",
       "      <td>10952618.0</td>\n",
       "      <td>9.214464e+07</td>\n",
       "      <td>1.255848e+08</td>\n",
       "    </tr>\n",
       "    <tr>\n",
       "      <th>6</th>\n",
       "      <td>S. Korea</td>\n",
       "      <td>30197066.0</td>\n",
       "      <td>33486.0</td>\n",
       "      <td>29740877.0</td>\n",
       "      <td>422703.0</td>\n",
       "      <td>1.580406e+07</td>\n",
       "      <td>5.132990e+07</td>\n",
       "    </tr>\n",
       "    <tr>\n",
       "      <th>7</th>\n",
       "      <td>Italy</td>\n",
       "      <td>25453789.0</td>\n",
       "      <td>186833.0</td>\n",
       "      <td>25014986.0</td>\n",
       "      <td>251970.0</td>\n",
       "      <td>2.654782e+08</td>\n",
       "      <td>6.026277e+07</td>\n",
       "    </tr>\n",
       "    <tr>\n",
       "      <th>8</th>\n",
       "      <td>UK</td>\n",
       "      <td>24274361.0</td>\n",
       "      <td>204171.0</td>\n",
       "      <td>24020088.0</td>\n",
       "      <td>50102.0</td>\n",
       "      <td>5.225265e+08</td>\n",
       "      <td>6.849791e+07</td>\n",
       "    </tr>\n",
       "    <tr>\n",
       "      <th>9</th>\n",
       "      <td>Russia</td>\n",
       "      <td>21958696.0</td>\n",
       "      <td>395108.0</td>\n",
       "      <td>21356008.0</td>\n",
       "      <td>207580.0</td>\n",
       "      <td>2.734000e+08</td>\n",
       "      <td>1.458059e+08</td>\n",
       "    </tr>\n",
       "  </tbody>\n",
       "</table>\n",
       "</div>"
      ],
      "text/plain": [
       "    Country  Total Cases  Total Deaths  Total Recovered  Active Cases  \\\n",
       "0       USA  104196861.0     1132935.0      101322779.0     1741147.0   \n",
       "1     India   44682784.0      530740.0       44150289.0        1755.0   \n",
       "2    France   39524311.0      164233.0       39264546.0       95532.0   \n",
       "3   Germany   37779833.0      165711.0       37398100.0      216022.0   \n",
       "4    Brazil   36824580.0      697074.0       35919372.0      208134.0   \n",
       "5     Japan   32588442.0       68399.0       21567425.0    10952618.0   \n",
       "6  S. Korea   30197066.0       33486.0       29740877.0      422703.0   \n",
       "7     Italy   25453789.0      186833.0       25014986.0      251970.0   \n",
       "8        UK   24274361.0      204171.0       24020088.0       50102.0   \n",
       "9    Russia   21958696.0      395108.0       21356008.0      207580.0   \n",
       "\n",
       "     Total Test    Population  \n",
       "0  1.159833e+09  3.348053e+08  \n",
       "1  9.152658e+08  1.406632e+09  \n",
       "2  2.714902e+08  6.558452e+07  \n",
       "3  1.223324e+08  8.388360e+07  \n",
       "4  6.377617e+07  2.153536e+08  \n",
       "5  9.214464e+07  1.255848e+08  \n",
       "6  1.580406e+07  5.132990e+07  \n",
       "7  2.654782e+08  6.026277e+07  \n",
       "8  5.225265e+08  6.849791e+07  \n",
       "9  2.734000e+08  1.458059e+08  "
      ]
     },
     "execution_count": 55,
     "metadata": {},
     "output_type": "execute_result"
    }
   ],
   "source": [
    "base.head(10)"
   ]
  },
  {
   "cell_type": "code",
   "execution_count": 56,
   "id": "fa6ebba9-e71e-4eab-bb43-c86fa94982f2",
   "metadata": {},
   "outputs": [
    {
     "name": "stdout",
     "output_type": "stream",
     "text": [
      "\n",
      "Valores nulos por coluna:\n",
      "Country            0\n",
      "Total Cases        0\n",
      "Total Deaths       0\n",
      "Total Recovered    0\n",
      "Active Cases       0\n",
      "Total Test         0\n",
      "Population         0\n",
      "dtype: int64\n"
     ]
    }
   ],
   "source": [
    "print(\"\\nValores nulos por coluna:\")\n",
    "print(base.isnull().sum())"
   ]
  },
  {
   "cell_type": "code",
   "execution_count": 57,
   "id": "47894345-e1d8-4af9-9381-b3240ceb5057",
   "metadata": {},
   "outputs": [
    {
     "data": {
      "text/html": [
       "<div>\n",
       "<style scoped>\n",
       "    .dataframe tbody tr th:only-of-type {\n",
       "        vertical-align: middle;\n",
       "    }\n",
       "\n",
       "    .dataframe tbody tr th {\n",
       "        vertical-align: top;\n",
       "    }\n",
       "\n",
       "    .dataframe thead th {\n",
       "        text-align: right;\n",
       "    }\n",
       "</style>\n",
       "<table border=\"1\" class=\"dataframe\">\n",
       "  <thead>\n",
       "    <tr style=\"text-align: right;\">\n",
       "      <th></th>\n",
       "      <th>Total Cases</th>\n",
       "      <th>Total Deaths</th>\n",
       "      <th>Total Recovered</th>\n",
       "      <th>Active Cases</th>\n",
       "      <th>Total Test</th>\n",
       "      <th>Population</th>\n",
       "    </tr>\n",
       "  </thead>\n",
       "  <tbody>\n",
       "    <tr>\n",
       "      <th>count</th>\n",
       "      <td>2.310000e+02</td>\n",
       "      <td>2.310000e+02</td>\n",
       "      <td>2.310000e+02</td>\n",
       "      <td>2.310000e+02</td>\n",
       "      <td>2.310000e+02</td>\n",
       "      <td>2.310000e+02</td>\n",
       "    </tr>\n",
       "    <tr>\n",
       "      <th>mean</th>\n",
       "      <td>2.923460e+06</td>\n",
       "      <td>2.927706e+04</td>\n",
       "      <td>2.721732e+06</td>\n",
       "      <td>8.351410e+04</td>\n",
       "      <td>2.996123e+07</td>\n",
       "      <td>2.812322e+07</td>\n",
       "    </tr>\n",
       "    <tr>\n",
       "      <th>std</th>\n",
       "      <td>9.479286e+06</td>\n",
       "      <td>1.041073e+05</td>\n",
       "      <td>9.116089e+06</td>\n",
       "      <td>7.344789e+05</td>\n",
       "      <td>1.133726e+08</td>\n",
       "      <td>1.016625e+08</td>\n",
       "    </tr>\n",
       "    <tr>\n",
       "      <th>min</th>\n",
       "      <td>5.000000e+00</td>\n",
       "      <td>0.000000e+00</td>\n",
       "      <td>0.000000e+00</td>\n",
       "      <td>0.000000e+00</td>\n",
       "      <td>0.000000e+00</td>\n",
       "      <td>0.000000e+00</td>\n",
       "    </tr>\n",
       "    <tr>\n",
       "      <th>25%</th>\n",
       "      <td>2.400100e+04</td>\n",
       "      <td>1.795000e+02</td>\n",
       "      <td>1.208250e+04</td>\n",
       "      <td>1.850000e+01</td>\n",
       "      <td>2.260585e+05</td>\n",
       "      <td>4.063530e+05</td>\n",
       "    </tr>\n",
       "    <tr>\n",
       "      <th>50%</th>\n",
       "      <td>2.065920e+05</td>\n",
       "      <td>1.965000e+03</td>\n",
       "      <td>1.315590e+05</td>\n",
       "      <td>7.390000e+02</td>\n",
       "      <td>1.671684e+06</td>\n",
       "      <td>5.511370e+06</td>\n",
       "    </tr>\n",
       "    <tr>\n",
       "      <th>75%</th>\n",
       "      <td>1.296146e+06</td>\n",
       "      <td>1.390850e+04</td>\n",
       "      <td>1.255186e+06</td>\n",
       "      <td>9.328500e+03</td>\n",
       "      <td>1.148478e+07</td>\n",
       "      <td>2.152480e+07</td>\n",
       "    </tr>\n",
       "    <tr>\n",
       "      <th>max</th>\n",
       "      <td>1.041969e+08</td>\n",
       "      <td>1.132935e+06</td>\n",
       "      <td>1.013228e+08</td>\n",
       "      <td>1.095262e+07</td>\n",
       "      <td>1.159833e+09</td>\n",
       "      <td>1.406632e+09</td>\n",
       "    </tr>\n",
       "  </tbody>\n",
       "</table>\n",
       "</div>"
      ],
      "text/plain": [
       "        Total Cases  Total Deaths  Total Recovered  Active Cases  \\\n",
       "count  2.310000e+02  2.310000e+02     2.310000e+02  2.310000e+02   \n",
       "mean   2.923460e+06  2.927706e+04     2.721732e+06  8.351410e+04   \n",
       "std    9.479286e+06  1.041073e+05     9.116089e+06  7.344789e+05   \n",
       "min    5.000000e+00  0.000000e+00     0.000000e+00  0.000000e+00   \n",
       "25%    2.400100e+04  1.795000e+02     1.208250e+04  1.850000e+01   \n",
       "50%    2.065920e+05  1.965000e+03     1.315590e+05  7.390000e+02   \n",
       "75%    1.296146e+06  1.390850e+04     1.255186e+06  9.328500e+03   \n",
       "max    1.041969e+08  1.132935e+06     1.013228e+08  1.095262e+07   \n",
       "\n",
       "         Total Test    Population  \n",
       "count  2.310000e+02  2.310000e+02  \n",
       "mean   2.996123e+07  2.812322e+07  \n",
       "std    1.133726e+08  1.016625e+08  \n",
       "min    0.000000e+00  0.000000e+00  \n",
       "25%    2.260585e+05  4.063530e+05  \n",
       "50%    1.671684e+06  5.511370e+06  \n",
       "75%    1.148478e+07  2.152480e+07  \n",
       "max    1.159833e+09  1.406632e+09  "
      ]
     },
     "execution_count": 57,
     "metadata": {},
     "output_type": "execute_result"
    }
   ],
   "source": [
    "base.describe()"
   ]
  },
  {
   "cell_type": "code",
   "execution_count": 42,
   "id": "1fdfdb51-2e46-4cd1-94ef-92f62391275f",
   "metadata": {},
   "outputs": [
    {
     "name": "stdout",
     "output_type": "stream",
     "text": [
      "                  Total Cases  Total Deaths  Total Recovered  Active Cases  \\\n",
      "Country                                                                      \n",
      "USA               104196861.0     1132935.0      101322779.0     1741147.0   \n",
      "India              44682784.0      530740.0       44150289.0        1755.0   \n",
      "France             39524311.0      164233.0       39264546.0       95532.0   \n",
      "Germany            37779833.0      165711.0       37398100.0      216022.0   \n",
      "Brazil             36824580.0      697074.0       35919372.0      208134.0   \n",
      "...                       ...           ...              ...           ...   \n",
      "Diamond Princess        712.0          13.0            699.0           0.0   \n",
      "Vatican City             29.0           0.0             29.0           0.0   \n",
      "Western Sahara           10.0           1.0              9.0           0.0   \n",
      "MS Zaandam                9.0           2.0              7.0           0.0   \n",
      "Tokelau                   5.0           0.0              0.0           5.0   \n",
      "\n",
      "                    Total Test    Population  \n",
      "Country                                       \n",
      "USA               1.159833e+09  3.348053e+08  \n",
      "India             9.152658e+08  1.406632e+09  \n",
      "France            2.714902e+08  6.558452e+07  \n",
      "Germany           1.223324e+08  8.388360e+07  \n",
      "Brazil            6.377617e+07  2.153536e+08  \n",
      "...                        ...           ...  \n",
      "Diamond Princess  0.000000e+00  0.000000e+00  \n",
      "Vatican City      0.000000e+00  7.990000e+02  \n",
      "Western Sahara    0.000000e+00  6.261610e+05  \n",
      "MS Zaandam        0.000000e+00  0.000000e+00  \n",
      "Tokelau           0.000000e+00  1.378000e+03  \n",
      "\n",
      "[231 rows x 6 columns]\n"
     ]
    }
   ],
   "source": [
    "print(base)"
   ]
  },
  {
   "cell_type": "code",
   "execution_count": 58,
   "id": "7f872083-9915-48d3-af50-c9e3efe79797",
   "metadata": {},
   "outputs": [
    {
     "name": "stdout",
     "output_type": "stream",
     "text": [
      "Index(['Country', 'Total Cases', 'Total Deaths', 'Total Recovered',\n",
      "       'Active Cases', 'Total Test', 'Population'],\n",
      "      dtype='object')\n"
     ]
    }
   ],
   "source": [
    "print(base.columns)"
   ]
  },
  {
   "cell_type": "code",
   "execution_count": 60,
   "id": "3725ee88-3605-42f3-8d2a-c562b05aab7a",
   "metadata": {},
   "outputs": [
    {
     "name": "stdout",
     "output_type": "stream",
     "text": [
      "              Country  Total Cases\n",
      "0                 USA  104196861.0\n",
      "1               India   44682784.0\n",
      "2              France   39524311.0\n",
      "3             Germany   37779833.0\n",
      "4              Brazil   36824580.0\n",
      "..                ...          ...\n",
      "226  Diamond Princess        712.0\n",
      "227      Vatican City         29.0\n",
      "228    Western Sahara         10.0\n",
      "229        MS Zaandam          9.0\n",
      "230           Tokelau          5.0\n",
      "\n",
      "[231 rows x 2 columns]\n"
     ]
    }
   ],
   "source": [
    "colunas_selecionadas = ['Country', 'Total Cases']\n",
    "base_nova = base[colunas_selecionadas]\n",
    "\n",
    "# Agora 'base_nova' contém apenas as colunas selecionadas\n",
    "print(base_nova)"
   ]
  },
  {
   "cell_type": "code",
   "execution_count": 61,
   "id": "0856294f-8826-46c8-8489-d29545054d6c",
   "metadata": {},
   "outputs": [
    {
     "name": "stdout",
     "output_type": "stream",
     "text": [
      "    Country  Total Cases\n",
      "0       USA  104196861.0\n",
      "1     India   44682784.0\n",
      "2    France   39524311.0\n",
      "3   Germany   37779833.0\n",
      "4    Brazil   36824580.0\n",
      "5     Japan   32588442.0\n",
      "6  S. Korea   30197066.0\n",
      "7     Italy   25453789.0\n",
      "8        UK   24274361.0\n",
      "9    Russia   21958696.0\n"
     ]
    }
   ],
   "source": [
    "print(base_nova.nlargest(10,'Total Cases'))"
   ]
  },
  {
   "cell_type": "code",
   "execution_count": 62,
   "id": "190655c0-28a4-436c-b864-be1fc83aaf2a",
   "metadata": {},
   "outputs": [
    {
     "name": "stdout",
     "output_type": "stream",
     "text": [
      "              Country  Total Deaths\n",
      "0                 USA     1132935.0\n",
      "1               India      530740.0\n",
      "2              France      164233.0\n",
      "3             Germany      165711.0\n",
      "4              Brazil      697074.0\n",
      "..                ...           ...\n",
      "226  Diamond Princess          13.0\n",
      "227      Vatican City           0.0\n",
      "228    Western Sahara           1.0\n",
      "229        MS Zaandam           2.0\n",
      "230           Tokelau           0.0\n",
      "\n",
      "[231 rows x 2 columns]\n"
     ]
    }
   ],
   "source": [
    "colunas_selecionadas = ['Country', 'Total Deaths']\n",
    "base_nova2 = base[colunas_selecionadas]\n",
    "print(base_nova2)"
   ]
  },
  {
   "cell_type": "code",
   "execution_count": 64,
   "id": "9b1e11ad-f5f3-4d57-af5b-c40f9fd97bcc",
   "metadata": {},
   "outputs": [
    {
     "name": "stdout",
     "output_type": "stream",
     "text": [
      "    Country  Total Deaths\n",
      "0       USA     1132935.0\n",
      "4    Brazil      697074.0\n",
      "1     India      530740.0\n",
      "9    Russia      395108.0\n",
      "18   Mexico      332198.0\n",
      "34     Peru      218931.0\n",
      "8        UK      204171.0\n",
      "7     Italy      186833.0\n",
      "3   Germany      165711.0\n",
      "2    France      164233.0\n"
     ]
    }
   ],
   "source": [
    "print(base_nova2.nlargest(10,'Total Deaths'))"
   ]
  },
  {
   "cell_type": "code",
   "execution_count": 65,
   "id": "e0ce5a29-2b9c-4057-91d6-8bb19cb8cb76",
   "metadata": {},
   "outputs": [
    {
     "name": "stdout",
     "output_type": "stream",
     "text": [
      "              Country  Active Cases\n",
      "0                 USA     1741147.0\n",
      "1               India        1755.0\n",
      "2              France       95532.0\n",
      "3             Germany      216022.0\n",
      "4              Brazil      208134.0\n",
      "..                ...           ...\n",
      "226  Diamond Princess           0.0\n",
      "227      Vatican City           0.0\n",
      "228    Western Sahara           0.0\n",
      "229        MS Zaandam           0.0\n",
      "230           Tokelau           5.0\n",
      "\n",
      "[231 rows x 2 columns]\n"
     ]
    }
   ],
   "source": [
    "colunas_selecionadas = ['Country', 'Active Cases']\n",
    "base_nova3 = base[colunas_selecionadas]\n",
    "print(base_nova3)"
   ]
  },
  {
   "cell_type": "code",
   "execution_count": 66,
   "id": "c7b7d6d9-2ba4-4e51-bbcc-03bb184e04ba",
   "metadata": {},
   "outputs": [
    {
     "name": "stdout",
     "output_type": "stream",
     "text": [
      "       Country  Active Cases\n",
      "5        Japan    10952618.0\n",
      "0          USA     1741147.0\n",
      "20      Poland      925549.0\n",
      "12     Vietnam      870843.0\n",
      "18      Mexico      429421.0\n",
      "15      Taiwan      423489.0\n",
      "6     S. Korea      422703.0\n",
      "40   Hong Kong      354439.0\n",
      "64  Costa Rica      316307.0\n",
      "7        Italy      251970.0\n"
     ]
    }
   ],
   "source": [
    "print(base_nova3.nlargest(10,'Active Cases'))"
   ]
  },
  {
   "cell_type": "code",
   "execution_count": null,
   "id": "2ca05e3b-1858-47db-8c14-602e166e2a3e",
   "metadata": {},
   "outputs": [],
   "source": []
  }
 ],
 "metadata": {
  "kernelspec": {
   "display_name": "Python 3 (ipykernel)",
   "language": "python",
   "name": "python3"
  },
  "language_info": {
   "codemirror_mode": {
    "name": "ipython",
    "version": 3
   },
   "file_extension": ".py",
   "mimetype": "text/x-python",
   "name": "python",
   "nbconvert_exporter": "python",
   "pygments_lexer": "ipython3",
   "version": "3.11.7"
  }
 },
 "nbformat": 4,
 "nbformat_minor": 5
}
